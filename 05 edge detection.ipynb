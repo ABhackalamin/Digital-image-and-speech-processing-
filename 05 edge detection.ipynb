{
 "cells": [
  {
   "cell_type": "code",
   "execution_count": null,
   "metadata": {},
   "outputs": [],
   "source": [
    "import cv2\n",
    "import numpy as np\n",
    "from matplotlib import pyplot as plt\n",
    "\n",
    "# Read the image\n",
    "image = cv2.imread('/content/drive/MyDrive/images.jpg', cv2.IMREAD_GRAYSCALE)\n",
    "\n",
    "# Define the high-pass filter kernel\n",
    "high_pass_kernel = np.array([[-1, -1, -1],\n",
    "                             [-1,  8, -1],\n",
    "                             [-1, -1, -1]])\n",
    "\n",
    "# Perform convolution\n",
    "convolved_image = cv2.filter2D(image, -1, high_pass_kernel)\n",
    "\n",
    "# Display the original and convolved images\n",
    "print(\"Original Image\")\n",
    "cv2_imshow(image)\n",
    "print(\"High-pass Filter Convolved Image\")\n",
    "cv2_imshow(convolved_image)\n",
    "\n",
    "# Define the low-pass filter kernel (averaging filter)\n",
    "low_pass_kernel = np.ones((3, 3), dtype=np.float32) / 9\n",
    "# Perform convolution\n",
    "low_pass_convolved_image = cv2.filter2D(image, -1, low_pass_kernel)\n",
    "print(\"low_pass_convolved_image\")\n",
    "cv2_imshow(low_pass_convolved_image)\n",
    "\n",
    "# Define the Laplacian filter kernel\n",
    "laplacian_kernel = np.array([[0, 1, 0],\n",
    "                             [1, -4, 1],\n",
    "                             [0, 1, 0]])\n",
    "\n",
    "# Apply the Laplacian filter to the image\n",
    "lap_filtered_image = cv2.filter2D(image, -1, laplacian_kernel)\n",
    "\n",
    "# Display the laplacian filtered images\n",
    "print(\"Display the laplacian filtered images\")\n",
    "cv2_imshow(lap_filtered_image)\n",
    "\n"
   ]
  }
 ],
 "metadata": {
  "language_info": {
   "name": "python"
  }
 },
 "nbformat": 4,
 "nbformat_minor": 2
}
