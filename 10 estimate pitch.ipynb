{
 "cells": [
  {
   "cell_type": "code",
   "execution_count": null,
   "metadata": {},
   "outputs": [],
   "source": [
    "import numpy as np\n",
    "import matplotlib.pyplot as plt\n",
    "import librosa\n",
    "# Read the speech segment from the WAV file using Librosa\n",
    "# y, Fs = librosa.load(r\"C:\\Users\\Win-10\\OneDrive\\Desktop\\Lab_3.2\\Recording.wav\", sr=None)\n",
    "y, Fs = librosa.load(r\"/content/drive/MyDrive/harvard.wav\", sr=None)\n",
    "# Cut a portion of the speech signal (for example, for 30 ms)\n",
    "start_time = 4.515\n",
    "end_time = 4.545\n",
    "y = y[int(start_time * Fs):int(end_time * Fs)]\n",
    "# Compute autocorrelation\n",
    "autocorrelation = np.correlate(y, y, mode='full')\n",
    "# Time axis for autocorrelation plot (in milliseconds)\n",
    "kk = np.arange(0, len(autocorrelation)) / Fs * 1000\n",
    "# Plot original signal\n",
    "plt.subplot(2, 1, 1)\n",
    "# plt.plot(np.arange(len(y)) / Fs * 1000, y)\n",
    "librosa.display.waveshow(y, sr=Fs, alpha=0.5)\n",
    "plt.xlabel('Time in milliseconds')\n",
    "plt.ylabel('Amplitude')\n",
    "plt.title('A 30 millisecond segment of speech')\n",
    "# Plot autocorrelation\n",
    "plt.subplot(2, 1, 2)\n",
    "plt.plot(kk, autocorrelation)\n",
    "plt.xlabel('Time in milliseconds')\n",
    "plt.ylabel('Autocorrelation')\n",
    "plt.title('Autocorrelation of the 30 millisecond segment of speech')\n",
    "# Extract relevant part of autocorrelation (21 to 160)\n",
    "auto = autocorrelation[20:160]\n",
    "# Find the maximum value and corresponding sample number\n",
    "max_idx = np.argmax(auto)\n",
    "sample_no = max_idx + 21 # Adjust for the indexing\n",
    "pitch_period_To = (20 + sample_no) * (1 / Fs)\n",
    "pitch_freq_Fo = 1 / pitch_period_To\n",
    "print(\"Pitch Period (To):\", pitch_period_To)\n",
    "print(\"Pitch Frequency (Fo):\", pitch_freq_Fo)\n",
    "plt.tight_layout()\n",
    "plt.show()"
   ]
  }
 ],
 "metadata": {
  "language_info": {
   "name": "python"
  }
 },
 "nbformat": 4,
 "nbformat_minor": 2
}
