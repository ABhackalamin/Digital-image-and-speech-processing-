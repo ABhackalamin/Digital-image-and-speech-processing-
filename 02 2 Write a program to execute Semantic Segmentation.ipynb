{
 "cells": [
  {
   "cell_type": "code",
   "execution_count": null,
   "metadata": {},
   "outputs": [],
   "source": [
    "import cv2\n",
    "import numpy as np\n",
    "from sklearn.cluster import KMeans\n",
    "import matplotlib.pyplot as plt\n",
    "# Load the image\n",
    "image = cv2.imread('/content/drive/MyDrive/sea beach.jpg')\n",
    "image = cv2.cvtColor(image, cv2.COLOR_BGR2RGB)\n",
    "# Reshape the image to be a list of pixels\n",
    "pixels = image.reshape(-1, 3)\n",
    "# Perform k-means clustering\n",
    "kmeans = KMeans(n_clusters=4)\n",
    "kmeans.fit(pixels)\n",
    "# Get the cluster centers and labels\n",
    "centers = np.uint8(kmeans.cluster_centers_)\n",
    "labels = kmeans.labels_\n",
    "# Assign each pixel to its corresponding cluster center\n",
    "segmented_image = centers[labels]\n",
    "# Reshape the segmented image to its original shape\n",
    "segmented_image = segmented_image.reshape(image.shape)\n",
    "# Display the original image and segmented image\n",
    "plt.figure(figsize=(10, 5))\n",
    "plt.subplot(1, 2, 1)\n",
    "plt.imshow(image)\n",
    "plt.title('Original Image')\n",
    "plt.subplot(1, 2, 2)\n",
    "plt.imshow(segmented_image)\n",
    "plt.title('Segmented Image')\n",
    "plt.show()\n"
   ]
  }
 ],
 "metadata": {
  "language_info": {
   "name": "python"
  }
 },
 "nbformat": 4,
 "nbformat_minor": 2
}
