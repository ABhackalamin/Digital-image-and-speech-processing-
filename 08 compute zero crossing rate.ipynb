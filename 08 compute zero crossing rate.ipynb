{
 "cells": [
  {
   "cell_type": "code",
   "execution_count": null,
   "metadata": {},
   "outputs": [],
   "source": [
    "import numpy as np\n",
    "import matplotlib.pyplot as plt\n",
    "import librosa\n",
    "\n",
    "# Load the speech signal\n",
    "y, sr = librosa.load('/content/drive/MyDrive/harvard.wav')\n",
    "\n",
    "# Define window sizes and types\n",
    "window_sizes = [64, 128, 256, 512, 1024]\n",
    "window_types = ['rectangular', 'hamming', 'hanning', 'blackman']\n",
    "\n",
    "# Compute ZCR and zero crossings for each window size and type\n",
    "for win_size in window_sizes:\n",
    "    for win_type in window_types:\n",
    "        # Generate the window function\n",
    "        if win_type == 'rectangular':\n",
    "            window = np.ones(win_size)\n",
    "        elif win_type == 'hamming':\n",
    "            window = np.hamming(win_size)\n",
    "        elif win_type == 'hanning':\n",
    "            window = np.hanning(win_size)\n",
    "        elif win_type == 'blackman':\n",
    "            window = np.blackman(win_size)\n",
    "\n",
    "        # Apply the window function\n",
    "        y_windowed = y[:len(window)] * window\n",
    "\n",
    "        # Compute ZCR\n",
    "        zcr = np.sum(np.abs(np.diff(np.sign(y_windowed)))) / len(y_windowed)\n",
    "\n",
    "        # Compute zero crossings\n",
    "        zero_crossings = np.sum(np.abs(np.diff(np.sign(y_windowed)))) / 2\n",
    "\n",
    "        # Plot the windowed signal\n",
    "        plt.figure(figsize=(8, 4))\n",
    "        plt.plot(y_windowed, color='red')\n",
    "        plt.title(f'Window Size: {win_size}, Window Type: {win_type}, ZCR: {zcr:.4f}, Zero Crossings: {zero_crossings}')\n",
    "        plt.xlabel('Sample')\n",
    "        plt.ylabel('Amplitude')\n",
    "        plt.grid(True)\n",
    "        plt.show()\n"
   ]
  }
 ],
 "metadata": {
  "language_info": {
   "name": "python"
  }
 },
 "nbformat": 4,
 "nbformat_minor": 2
}
